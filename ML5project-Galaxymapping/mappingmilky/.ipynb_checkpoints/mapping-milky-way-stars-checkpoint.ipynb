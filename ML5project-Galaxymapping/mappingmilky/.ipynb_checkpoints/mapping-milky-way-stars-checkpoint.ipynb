{
 "cells": [
  {
   "cell_type": "code",
   "execution_count": null,
   "metadata": {
    "_cell_guid": "b1076dfc-b9ad-4769-8c92-a6c4dae69d19",
    "_uuid": "8f2839f25d086af736a60e9eeb907d3b93b6e0e5",
    "execution": {
     "iopub.execute_input": "2023-09-19T04:19:49.408830Z",
     "iopub.status.busy": "2023-09-19T04:19:49.408428Z",
     "iopub.status.idle": "2023-09-19T04:19:49.423052Z",
     "shell.execute_reply": "2023-09-19T04:19:49.421928Z",
     "shell.execute_reply.started": "2023-09-19T04:19:49.408796Z"
    }
   },
   "outputs": [],
   "source": [
    "# This Python 3 environment comes with many helpful analytics libraries installed\n",
    "# It is defined by the kaggle/python Docker image: https://github.com/kaggle/docker-python\n",
    "# For example, here's several helpful packages to load\n",
    "\n",
    "import numpy as np # linear algebra\n",
    "import pandas as pd # data processing, CSV file I/O (e.g. pd.read_csv)\n",
    "\n",
    "# Input data files are available in the read-only \"../input/\" directory\n",
    "# For example, running this (by clicking run or pressing Shift+Enter) will list all files under the input directory\n",
    "\n",
    "import os\n",
    "for dirname, _, filenames in os.walk('/kaggle/input'):\n",
    "    for filename in filenames:\n",
    "        print(os.path.join(dirname, filename))\n",
    "\n",
    "# You can write up to 20GB to the current directory (/kaggle/working/) that gets preserved as output when you create a version using \"Save & Run All\" \n",
    "# You can also write temporary files to /kaggle/temp/, but they won't be saved outside of the current session"
   ]
  },
  {
   "cell_type": "code",
   "execution_count": null,
   "metadata": {
    "execution": {
     "iopub.execute_input": "2023-09-19T04:19:50.391807Z",
     "iopub.status.busy": "2023-09-19T04:19:50.390132Z",
     "iopub.status.idle": "2023-09-19T04:19:50.395799Z",
     "shell.execute_reply": "2023-09-19T04:19:50.394816Z",
     "shell.execute_reply.started": "2023-09-19T04:19:50.391771Z"
    }
   },
   "outputs": [],
   "source": [
    "import matplotlib.pyplot as plt"
   ]
  },
  {
   "cell_type": "code",
   "execution_count": null,
   "metadata": {
    "execution": {
     "iopub.execute_input": "2023-09-19T04:19:51.117263Z",
     "iopub.status.busy": "2023-09-19T04:19:51.116867Z",
     "iopub.status.idle": "2023-09-19T04:19:51.153002Z",
     "shell.execute_reply": "2023-09-19T04:19:51.152092Z",
     "shell.execute_reply.started": "2023-09-19T04:19:51.117211Z"
    }
   },
   "outputs": [],
   "source": [
    "df = pd.read_csv(\"/kaggle/input/galacticcoordswithgaia/gaiaDataNearSun.csv\")"
   ]
  },
  {
   "cell_type": "code",
   "execution_count": null,
   "metadata": {
    "execution": {
     "iopub.execute_input": "2023-09-19T04:19:52.928268Z",
     "iopub.status.busy": "2023-09-19T04:19:52.927346Z",
     "iopub.status.idle": "2023-09-19T04:19:52.933591Z",
     "shell.execute_reply": "2023-09-19T04:19:52.932824Z",
     "shell.execute_reply.started": "2023-09-19T04:19:52.928233Z"
    }
   },
   "outputs": [],
   "source": [
    "df = df.loc[df.parallax > 0, :]"
   ]
  },
  {
   "cell_type": "code",
   "execution_count": null,
   "metadata": {
    "execution": {
     "iopub.execute_input": "2023-09-19T04:19:53.682648Z",
     "iopub.status.busy": "2023-09-19T04:19:53.682275Z",
     "iopub.status.idle": "2023-09-19T04:19:53.695974Z",
     "shell.execute_reply": "2023-09-19T04:19:53.694914Z",
     "shell.execute_reply.started": "2023-09-19T04:19:53.682617Z"
    }
   },
   "outputs": [],
   "source": [
    "df"
   ]
  },
  {
   "cell_type": "markdown",
   "metadata": {},
   "source": [
    "# THANKS TO AUSTIN HINKEL FOR SOME OF THESE CODE "
   ]
  },
  {
   "cell_type": "code",
   "execution_count": null,
   "metadata": {
    "execution": {
     "iopub.execute_input": "2023-09-19T04:19:56.007338Z",
     "iopub.status.busy": "2023-09-19T04:19:56.006423Z",
     "iopub.status.idle": "2023-09-19T04:19:56.012451Z",
     "shell.execute_reply": "2023-09-19T04:19:56.011626Z",
     "shell.execute_reply.started": "2023-09-19T04:19:56.007299Z"
    }
   },
   "outputs": [],
   "source": [
    "df['distance'] = 1.0/df.parallax"
   ]
  },
  {
   "cell_type": "code",
   "execution_count": null,
   "metadata": {
    "execution": {
     "iopub.execute_input": "2023-09-19T04:19:57.189251Z",
     "iopub.status.busy": "2023-09-19T04:19:57.188491Z",
     "iopub.status.idle": "2023-09-19T04:19:57.202652Z",
     "shell.execute_reply": "2023-09-19T04:19:57.201538Z",
     "shell.execute_reply.started": "2023-09-19T04:19:57.189213Z"
    }
   },
   "outputs": [],
   "source": [
    "df"
   ]
  },
  {
   "cell_type": "code",
   "execution_count": null,
   "metadata": {
    "execution": {
     "iopub.execute_input": "2023-09-19T04:19:58.802709Z",
     "iopub.status.busy": "2023-09-19T04:19:58.801638Z",
     "iopub.status.idle": "2023-09-19T04:19:58.810210Z",
     "shell.execute_reply": "2023-09-19T04:19:58.809158Z",
     "shell.execute_reply.started": "2023-09-19T04:19:58.802656Z"
    }
   },
   "outputs": [],
   "source": [
    "df.columns"
   ]
  },
  {
   "cell_type": "code",
   "execution_count": null,
   "metadata": {
    "execution": {
     "iopub.execute_input": "2023-09-19T04:20:01.872676Z",
     "iopub.status.busy": "2023-09-19T04:20:01.872301Z",
     "iopub.status.idle": "2023-09-19T04:20:01.887115Z",
     "shell.execute_reply": "2023-09-19T04:20:01.885915Z",
     "shell.execute_reply.started": "2023-09-19T04:20:01.872646Z"
    }
   },
   "outputs": [],
   "source": [
    "df['distance'] = 1.0 / (df['parallax'] / 1000.0)\n",
    "\n",
    "# Convert heliocentric longitude and latitude to radians\n",
    "df['l_rad'] = np.radians(df['l'])\n",
    "df['b_rad'] = np.radians(df['b'])\n",
    "\n",
    "# Set the Galactic center longitude (you may adjust this as needed)\n",
    "galactic_center_longitude_rad = np.radians(0.0)\n",
    "\n",
    "# Calculate azimuthal angle (Phi) in radians\n",
    "df['phi'] = df['l_rad'] - galactic_center_longitude_rad\n",
    "\n",
    "# Calculate X, Y, and Z based on distance, longitude, and latitude\n",
    "df['X'] = df['distance'] * np.cos(df['b_rad']) * np.cos(df['l_rad'] - galactic_center_longitude_rad)\n",
    "df['Y'] = df['distance'] * np.cos(df['b_rad']) * np.sin(df['l_rad'] - galactic_center_longitude_rad)\n",
    "df['Z'] = df['distance'] * np.sin(df['b_rad'])\n",
    "\n",
    "# Calculate R (distance from Galactic center) from X and Y\n",
    "df['R'] = np.sqrt(df['X']**2 + df['Y']**2)\n"
   ]
  },
  {
   "cell_type": "code",
   "execution_count": null,
   "metadata": {
    "execution": {
     "iopub.execute_input": "2023-09-19T04:20:03.998673Z",
     "iopub.status.busy": "2023-09-19T04:20:03.998269Z",
     "iopub.status.idle": "2023-09-19T04:20:04.006003Z",
     "shell.execute_reply": "2023-09-19T04:20:04.004982Z",
     "shell.execute_reply.started": "2023-09-19T04:20:03.998640Z"
    }
   },
   "outputs": [],
   "source": [
    "df.columns"
   ]
  },
  {
   "cell_type": "code",
   "execution_count": null,
   "metadata": {
    "execution": {
     "iopub.execute_input": "2023-09-19T04:20:04.625062Z",
     "iopub.status.busy": "2023-09-19T04:20:04.624681Z",
     "iopub.status.idle": "2023-09-19T04:20:04.647929Z",
     "shell.execute_reply": "2023-09-19T04:20:04.646615Z",
     "shell.execute_reply.started": "2023-09-19T04:20:04.625030Z"
    }
   },
   "outputs": [],
   "source": [
    "df"
   ]
  },
  {
   "cell_type": "code",
   "execution_count": null,
   "metadata": {
    "execution": {
     "iopub.execute_input": "2023-09-19T04:20:05.221068Z",
     "iopub.status.busy": "2023-09-19T04:20:05.220669Z",
     "iopub.status.idle": "2023-09-19T04:20:05.603298Z",
     "shell.execute_reply": "2023-09-19T04:20:05.602175Z",
     "shell.execute_reply.started": "2023-09-19T04:20:05.221036Z"
    }
   },
   "outputs": [],
   "source": [
    "R_data = df['R']\n",
    "Phi_data = np.degrees(df['phi'])  # Convert radians to degrees\n",
    "\n",
    "# Create a 2D scatter plot\n",
    "plt.figure(figsize=(15, 10))\n",
    "plt.scatter(Phi_data, R_data, s=5, c='b', alpha=0.5)\n",
    "plt.xlabel('Azimuthal Angle (degrees)')\n",
    "plt.ylabel('Distance from Galactic Center (parsecs)')\n",
    "plt.title('Distribution of Stars in the Galactic Plane (R vs. Phi)')\n",
    "plt.grid(True)\n",
    "plt.show()"
   ]
  },
  {
   "cell_type": "code",
   "execution_count": null,
   "metadata": {
    "execution": {
     "iopub.execute_input": "2023-09-19T04:19:36.918993Z",
     "iopub.status.busy": "2023-09-19T04:19:36.918646Z",
     "iopub.status.idle": "2023-09-19T04:19:37.367315Z",
     "shell.execute_reply": "2023-09-19T04:19:37.366545Z",
     "shell.execute_reply.started": "2023-09-19T04:19:36.918963Z"
    }
   },
   "outputs": [],
   "source": [
    "R_data = df['R']\n",
    "Phi_data = np.degrees(df['phi'])  # Convert radians to degrees\n",
    "Z_data = df['Z']\n",
    "\n",
    "# Create a 3D scatter plot\n",
    "fig = plt.figure(figsize=(15, 10))\n",
    "ax = fig.add_subplot(111, projection='3d')\n",
    "ax.scatter(Phi_data, R_data, Z_data, s=5, c='b', marker='o', alpha=0.5)\n",
    "ax.set_xlabel('Azimuthal Angle (degrees)')\n",
    "ax.set_ylabel('Distance from Galactic Center (parsecs)')\n",
    "ax.set_zlabel('Height Above Galactic Plane (parsecs)')\n",
    "ax.set_title('3D Distribution of Stars (Galactocentric Cylindrical Coordinates)')\n",
    "plt.show()"
   ]
  },
  {
   "cell_type": "code",
   "execution_count": null,
   "metadata": {
    "execution": {
     "iopub.execute_input": "2023-09-19T04:19:37.369046Z",
     "iopub.status.busy": "2023-09-19T04:19:37.368539Z",
     "iopub.status.idle": "2023-09-19T04:19:37.389624Z",
     "shell.execute_reply": "2023-09-19T04:19:37.388341Z",
     "shell.execute_reply.started": "2023-09-19T04:19:37.369015Z"
    }
   },
   "outputs": [],
   "source": [
    "df"
   ]
  },
  {
   "cell_type": "code",
   "execution_count": null,
   "metadata": {
    "execution": {
     "iopub.execute_input": "2023-09-19T04:19:37.393349Z",
     "iopub.status.busy": "2023-09-19T04:19:37.393026Z",
     "iopub.status.idle": "2023-09-19T04:19:37.851916Z",
     "shell.execute_reply": "2023-09-19T04:19:37.850870Z",
     "shell.execute_reply.started": "2023-09-19T04:19:37.393320Z"
    }
   },
   "outputs": [],
   "source": [
    "from mpl_toolkits.mplot3d import Axes3D\n",
    "\n",
    "\n",
    "\n",
    "# Create a 3D scatter plot\n",
    "fig = plt.figure(figsize=(10, 8))\n",
    "ax = fig.add_subplot(111, projection='3d')\n",
    "\n",
    "# Plot the stars' Galactocentric coordinates\n",
    "ax.scatter(df['X'], df['Y'], df['Z'], c='b', s=5, alpha=0.5, label='Stars')\n",
    "\n",
    "# Add the positions of the Sun and Earth\n",
    "ax.scatter(0, 0, 0, c='y', marker='*', s=200, label='Sun (You are Here)')  # The Sun at the Galactic center\n",
    " \n",
    "\n",
    "ax.set_xlabel('X (kpc)')\n",
    "ax.set_ylabel('Y (kpc)')\n",
    "ax.set_zlabel('Z (kpc)')\n",
    "ax.set_title('Milky Way Stellar Distribution in 3D')\n",
    "ax.legend()\n",
    "\n",
    "plt.show()"
   ]
  },
  {
   "cell_type": "code",
   "execution_count": null,
   "metadata": {
    "execution": {
     "iopub.execute_input": "2023-09-19T04:19:37.853555Z",
     "iopub.status.busy": "2023-09-19T04:19:37.853247Z",
     "iopub.status.idle": "2023-09-19T04:19:37.873326Z",
     "shell.execute_reply": "2023-09-19T04:19:37.872610Z",
     "shell.execute_reply.started": "2023-09-19T04:19:37.853528Z"
    }
   },
   "outputs": [],
   "source": [
    "df"
   ]
  },
  {
   "cell_type": "code",
   "execution_count": null,
   "metadata": {
    "execution": {
     "iopub.execute_input": "2023-09-19T04:19:37.874808Z",
     "iopub.status.busy": "2023-09-19T04:19:37.874493Z",
     "iopub.status.idle": "2023-09-19T04:19:38.263669Z",
     "shell.execute_reply": "2023-09-19T04:19:38.262519Z",
     "shell.execute_reply.started": "2023-09-19T04:19:37.874782Z"
    }
   },
   "outputs": [],
   "source": [
    "\n",
    "galactic_X = df['X']\n",
    "galactic_Y = df['Y']\n",
    "\n",
    "# Create a 2D density map using plt.hist2d()\n",
    "plt.figure(figsize=(15, 10))\n",
    "plt.hist2d(galactic_X, galactic_Y, bins=(100, 100), cmap='Blues')\n",
    "plt.colorbar(label='Density')\n",
    "plt.xlabel('Galactic X (kpc)')\n",
    "plt.ylabel('Galactic Y (kpc)')\n",
    "plt.title('2D Stellar Density Map in the Galactic Plane')\n",
    "plt.show()"
   ]
  },
  {
   "cell_type": "markdown",
   "metadata": {},
   "source": [
    "# What these columns represent \n",
    "\n",
    "- parallax: Parallax measurements provide information about the distance to stars. You can use this column to:\n",
    "\n",
    "\n",
    "- l (longitude): Heliocentric longitude provides the angular position of stars within the Milky Way. You can use this column to:\n",
    "\n",
    "- b (latitude): Heliocentric latitude represents the angle above or below the Galactic plane. You can use this column to:\n",
    "\n",
    "- distance: The calculated distance to stars based on parallax measurements. You can use this column to:\n",
    "\n",
    "\n",
    "- l_rad: Heliocentric longitude converted to radians. This column simplifies trigonometric calculations and is useful for creating visualizations based on angular positions.\n",
    "\n",
    "- b_rad: Heliocentric latitude converted to radians. Similar to l_rad, this column simplifies trigonometric calculations.\n",
    "\n",
    "- phi: Azimuthal angle calculated relative to the Galactic center. You can use this column to:\n",
    "\n",
    "- Z: Height above the Galactic plane. This column provides information about stars' positions above or below the Galactic mid-plane.\n",
    "\n",
    "- X, Y, R: These columns represent the Galactocentric rectangular coordinates (X, Y, Z) and cylindrical coordinates (R, Phi, Z) of stars. You can use these columns to:\n",
    "\n"
   ]
  },
  {
   "cell_type": "code",
   "execution_count": null,
   "metadata": {},
   "outputs": [],
   "source": []
  }
 ],
 "metadata": {
  "kernelspec": {
   "display_name": "Python 3 (ipykernel)",
   "language": "python",
   "name": "python3"
  },
  "language_info": {
   "codemirror_mode": {
    "name": "ipython",
    "version": 3
   },
   "file_extension": ".py",
   "mimetype": "text/x-python",
   "name": "python",
   "nbconvert_exporter": "python",
   "pygments_lexer": "ipython3",
   "version": "3.11.4"
  }
 },
 "nbformat": 4,
 "nbformat_minor": 4
}
