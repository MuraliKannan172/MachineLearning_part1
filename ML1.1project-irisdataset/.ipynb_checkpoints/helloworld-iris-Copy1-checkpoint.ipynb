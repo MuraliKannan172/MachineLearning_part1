{
 "cells": [
  {
   "cell_type": "code",
   "execution_count": null,
   "id": "c3bddee8",
   "metadata": {},
   "outputs": [],
   "source": [
    "#load libraries\n",
    "#load libraries\n",
    "from pandas import read_csv\n",
    "from pandas.plotting import scatter_matrix\n",
    "from matplotlib import pyplot\n",
    "from sklearn.model_selection import train_test_split\n",
    "from sklearn.model_selection import KFold\n",
    "from sklearn.model_selection import cross_val_score\n",
    "from sklearn.metrics import classification_report\n",
    "from sklearn.metrics import confusion_matrix\n",
    "from sklearn.metrics import accuracy_score\n",
    "from sklearn.linear_model import LogisticRegression\n",
    "from sklearn.tree import DecisionTreeClassifier\n",
    "from sklearn.neighbors import KNeighborsClassifier\n",
    "from sklearn.discriminant_analysis import LinearDiscriminantAnalysis\n",
    "from sklearn.naive_bayes import GaussianNB\n",
    "from sklearn.svm import SVC"
   ]
  },
  {
   "cell_type": "code",
   "execution_count": null,
   "id": "efe6049d",
   "metadata": {},
   "outputs": [],
   "source": [
    "#load datasheet\n",
    "filename='iris.data.csv'\n",
    "names=['sepal-length','sepal-width','petal-length','petal-width','class']\n",
    "dataset=read_csv(filename,names=names)"
   ]
  },
  {
   "cell_type": "code",
   "execution_count": null,
   "id": "973af443",
   "metadata": {},
   "outputs": [],
   "source": [
    "#shape\n",
    "print(dataset.shape)"
   ]
  },
  {
   "cell_type": "code",
   "execution_count": null,
   "id": "9da9a76b",
   "metadata": {},
   "outputs": [],
   "source": [
    "#head\n",
    "print(dataset.head(20))"
   ]
  },
  {
   "cell_type": "code",
   "execution_count": null,
   "id": "418c8be2",
   "metadata": {},
   "outputs": [],
   "source": [
    "#descriptions\n",
    "print(dataset.describe())"
   ]
  },
  {
   "cell_type": "code",
   "execution_count": null,
   "id": "c1b3c659",
   "metadata": {},
   "outputs": [],
   "source": [
    "#class distribution\n",
    "print(dataset.groupby('class').size())"
   ]
  },
  {
   "cell_type": "code",
   "execution_count": null,
   "id": "4ce4fa16",
   "metadata": {},
   "outputs": [],
   "source": [
    "#box and whisker plots\n",
    "dataset.plot(kind='box',subplots=True,layout=(2,2),sharex=False,sharey=False)\n",
    "pyplot.show()"
   ]
  },
  {
   "cell_type": "code",
   "execution_count": null,
   "id": "9d546dd4",
   "metadata": {},
   "outputs": [],
   "source": [
    "#histogram\n",
    "dataset.hist()\n",
    "pyplot.show()\n"
   ]
  },
  {
   "cell_type": "code",
   "execution_count": null,
   "id": "eea13c86",
   "metadata": {},
   "outputs": [],
   "source": [
    "#scatter plot matrix\n",
    "scatter_matrix(dataset)\n",
    "pyplot.show()"
   ]
  },
  {
   "cell_type": "code",
   "execution_count": null,
   "id": "658a91cf",
   "metadata": {},
   "outputs": [],
   "source": [
    "#split-out validation dataset\n",
    "array=dataset.values\n",
    "x=array[:,0:4]\n",
    "y=array[:,4]\n",
    "validation_size=0.20\n",
    "seed=7\n",
    "X_train,X_validation,Y_train,Y_validation=train_test_split(x,y,test_size=validation_size,random_state=seed)"
   ]
  },
  {
   "cell_type": "code",
   "execution_count": null,
   "id": "d084a890",
   "metadata": {},
   "outputs": [],
   "source": [
    "#spot-check Algorithms\n",
    "models=[]\n",
    "models.append(('LR',LogisticRegression()))\n",
    "models.append(('LDA',LinearDiscriminantAnalysis()))\n",
    "models.append(('KNN',KNeighborsClassifier()))\n",
    "models.append(('CART',DecisionTreeClassifier()))\n",
    "models.append(('NB',GaussianNB()))\n",
    "models.append(('SVM',SVC()))\n",
    "#evaluate each model in turn\n",
    "results=[]\n",
    "names=[]\n",
    "for name, model in models:\n",
    "    kfold=KFold(n_splits=10,shuffle=True,random_state=seed)\n",
    "    cv_results=cross_val_score(model, X_train, Y_train, cv=kfold, scoring='accuracy')\n",
    "    results.append(cv_results)\n",
    "    names.append(name)\n",
    "    msg=\"%s: %f (%f)\"%(name,cv_results.mean(),cv_results.std())\n",
    "    print(msg)"
   ]
  },
  {
   "cell_type": "code",
   "execution_count": null,
   "id": "959b45f6",
   "metadata": {},
   "outputs": [],
   "source": [
    "#compare Algorithms\n",
    "fig=pyplot.figure()\n",
    "fig.suptitle('Alorithm Comparison')\n",
    "ax=fig.add_subplot(111)\n",
    "pyplot.boxplot(results)\n",
    "ax.set_xticklabels(names)\n",
    "pyplot.show()"
   ]
  },
  {
   "cell_type": "code",
   "execution_count": null,
   "id": "0a45d52c",
   "metadata": {},
   "outputs": [],
   "source": [
    "#make predictions on validation datasheet\n",
    "knn=KNeighborsClassifier()\n",
    "knn.fit(X_train, Y_train)\n",
    "predictions=knn.predict(X_validation)\n",
    "print(accuracy_score(Y_validation,predictions))\n",
    "print(confusion_matrix(Y_validation,predictions))\n",
    "print(classification_report(Y_validation,predictions))"
   ]
  },
  {
   "cell_type": "code",
   "execution_count": null,
   "id": "2ab2ac58",
   "metadata": {},
   "outputs": [],
   "source": []
  }
 ],
 "metadata": {
  "kernelspec": {
   "display_name": "cv2",
   "language": "python",
   "name": "cv"
  },
  "language_info": {
   "codemirror_mode": {
    "name": "ipython",
    "version": 3
   },
   "file_extension": ".py",
   "mimetype": "text/x-python",
   "name": "python",
   "nbconvert_exporter": "python",
   "pygments_lexer": "ipython3",
   "version": "3.10.13"
  }
 },
 "nbformat": 4,
 "nbformat_minor": 5
}
